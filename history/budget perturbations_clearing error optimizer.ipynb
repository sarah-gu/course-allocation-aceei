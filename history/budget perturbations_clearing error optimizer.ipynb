{
 "cells": [
  {
   "cell_type": "code",
   "execution_count": 41,
   "id": "1abadeee",
   "metadata": {},
   "outputs": [],
   "source": [
    "# step size and error \n",
    "\n",
    "import gurobipy as gp\n",
    "from gurobipy import GRB\n",
    "\n",
    "def clearing_error_optimizer(a, c, p, n,m, ki):\n",
    "\n",
    "    # Create a new model\n",
    "    model = gp.Model(\"Clearing_Error_Minimization\")\n",
    "\n",
    "    # Decision variables\n",
    "    # These are the dimensions of the decision variable array\n",
    "    # array of binary decision variables with n rows and ki columns\n",
    "    x = model.addVars(n, ki, vtype=GRB.BINARY, name=\"x\")\n",
    "    z = model.addVars(m, lb=0.0, vtype=GRB.INTEGER, name=\"z\")\n",
    "\n",
    "    # Objective function: Minimize the l1-norm of vector z\n",
    "    model.setObjective(gp.quicksum(z[j] for j in range(m)), sense=GRB.MINIMIZE)\n",
    "\n",
    "    # Constraints\n",
    "    for j in range(m):\n",
    "        model.addConstr(gp.quicksum(x[i, l] * a[i][l][j] for i in range(n) for l in range(ki)) == c[j] + z[j], f\"clearing_error_positive_{j}\")\n",
    "        model.addConstr(gp.quicksum(x[i, l] * a[i][l][j] for i in range(n) for l in range(ki)) <= c[j] + z[j], f\"clearing_error_nonnegative_{j}\")\n",
    "\n",
    "    for i in range(n):\n",
    "        model.addConstr(gp.quicksum(x[i, l] for l in range(ki)) == 1, f\"one_schedule_per_student_{i}\")\n",
    "\n",
    "    # Solve the model\n",
    "    model.optimize()\n",
    "\n",
    "    # Check optimization status\n",
    "    if model.status == GRB.OPTIMAL:\n",
    "        # Access the optimal solution\n",
    "        optimal_x = model.getAttr(\"x\", x)\n",
    "        optimal_z = model.getAttr(\"x\", z)\n",
    "\n",
    "        # Print or use the optimal solution as needed\n",
    "        print(\"Optimal x values:\", optimal_x)\n",
    "        print(\"Optimal z values:\", optimal_z)\n",
    "    else:\n",
    "        print(f\"Optimization terminated with status {model.status}\")\n",
    "\n",
    "\n"
   ]
  },
  {
   "cell_type": "code",
   "execution_count": 42,
   "id": "cd1d2433",
   "metadata": {},
   "outputs": [
    {
     "name": "stdout",
     "output_type": "stream",
     "text": [
      "Gurobi Optimizer version 10.0.0 build v10.0.0rc2 (mac64[rosetta2])\n",
      "\n",
      "CPU model: Apple M1 Pro\n",
      "Thread count: 10 physical cores, 10 logical processors, using up to 10 threads\n",
      "\n",
      "Optimize a model with 9 rows, 9 columns and 48 nonzeros\n",
      "Model fingerprint: 0x967bd392\n",
      "Variable types: 0 continuous, 9 integer (6 binary)\n",
      "Coefficient statistics:\n",
      "  Matrix range     [1e+00, 2e+01]\n",
      "  Objective range  [1e+00, 1e+00]\n",
      "  Bounds range     [1e+00, 1e+00]\n",
      "  RHS range        [1e+00, 3e+00]\n",
      "Presolve removed 9 rows and 9 columns\n",
      "Presolve time: 0.00s\n",
      "Presolve: All rows and columns removed\n",
      "\n",
      "Explored 0 nodes (0 simplex iterations) in 0.01 seconds (0.00 work units)\n",
      "Thread count was 1 (of 10 available processors)\n",
      "\n",
      "Solution count 1: 36 \n",
      "\n",
      "Optimal solution found (tolerance 1.00e-04)\n",
      "Best objective 3.600000000000e+01, best bound 3.600000000000e+01, gap 0.0000%\n",
      "Optimal x values: {(0, 0): 1.0, (0, 1): 0.0, (1, 0): 1.0, (1, 1): 0.0, (2, 0): -0.0, (2, 1): 1.0}\n",
      "Optimal z values: {0: 4.0, 1: 20.0, 2: 12.0}\n"
     ]
    }
   ],
   "source": [
    "\n",
    "# a: course allocation where the rows are students and the columns are the different demand sets for\n",
    "#    students udner the budget perturbations (course in the example are [1,43])\n",
    "# c: capacity of each course\n",
    "# p: price of each course\n",
    "# n: number of students\n",
    "# m: number of courses \n",
    "# ki: the number of budget budget pertubations\n",
    "\n",
    "#example input\n",
    "a = [[[1, 2, 3], [4, 2, 6]], [[1, 8, 3], [10, 11, 3]], [[13, 14, 15], [3, 12, 9]]]\n",
    "c = [1, 2, 3]\n",
    "p = [1, 0, 1]\n",
    "n=len(a)\n",
    "m=len(c)\n",
    "ki=2 #here I set ki = 2 becasue that is the number of columns in the example I have for a\n",
    "\n",
    "clearing_error_optimizer(a, c, p, n, m, ki)"
   ]
  },
  {
   "cell_type": "code",
   "execution_count": 26,
   "id": "8c912568",
   "metadata": {},
   "outputs": [
    {
     "name": "stdout",
     "output_type": "stream",
     "text": [
      "2\n"
     ]
    }
   ],
   "source": [
    "print(len(a[0]))"
   ]
  },
  {
   "cell_type": "code",
   "execution_count": 22,
   "id": "64a0be8f",
   "metadata": {},
   "outputs": [
    {
     "ename": "AttributeError",
     "evalue": "'list' object has no attribute 'shape'",
     "output_type": "error",
     "traceback": [
      "\u001b[0;31m---------------------------------------------------------------------------\u001b[0m",
      "\u001b[0;31mAttributeError\u001b[0m                            Traceback (most recent call last)",
      "\u001b[0;32m/var/folders/y1/fzq6mttx6fb2fs_14z8crtcm0000gn/T/ipykernel_59558/1669063913.py\u001b[0m in \u001b[0;36m<module>\u001b[0;34m\u001b[0m\n\u001b[1;32m      1\u001b[0m \u001b[0ma\u001b[0m \u001b[0;34m=\u001b[0m \u001b[0;34m[\u001b[0m\u001b[0;34m[\u001b[0m\u001b[0;34m[\u001b[0m\u001b[0;36m1\u001b[0m\u001b[0;34m,\u001b[0m \u001b[0;36m2\u001b[0m\u001b[0;34m,\u001b[0m \u001b[0;36m3\u001b[0m\u001b[0;34m]\u001b[0m\u001b[0;34m,\u001b[0m \u001b[0;34m[\u001b[0m\u001b[0;36m4\u001b[0m\u001b[0;34m,\u001b[0m \u001b[0;36m3\u001b[0m\u001b[0;34m,\u001b[0m \u001b[0;36m7\u001b[0m\u001b[0;34m]\u001b[0m\u001b[0;34m]\u001b[0m\u001b[0;34m,\u001b[0m \u001b[0;34m[\u001b[0m\u001b[0;34m[\u001b[0m\u001b[0;36m2\u001b[0m\u001b[0;34m,\u001b[0m \u001b[0;36m1\u001b[0m\u001b[0;34m,\u001b[0m \u001b[0;36m6\u001b[0m\u001b[0;34m]\u001b[0m\u001b[0;34m,\u001b[0m \u001b[0;34m[\u001b[0m\u001b[0;36m5\u001b[0m\u001b[0;34m,\u001b[0m \u001b[0;36m3\u001b[0m\u001b[0;34m,\u001b[0m \u001b[0;36m1\u001b[0m\u001b[0;34m]\u001b[0m\u001b[0;34m]\u001b[0m\u001b[0;34m,\u001b[0m\u001b[0;34m[\u001b[0m\u001b[0;34m[\u001b[0m\u001b[0;36m1\u001b[0m\u001b[0;34m,\u001b[0m \u001b[0;36m7\u001b[0m\u001b[0;34m,\u001b[0m \u001b[0;36m2\u001b[0m\u001b[0;34m]\u001b[0m\u001b[0;34m,\u001b[0m \u001b[0;34m[\u001b[0m\u001b[0;36m6\u001b[0m\u001b[0;34m,\u001b[0m \u001b[0;36m5\u001b[0m\u001b[0;34m,\u001b[0m \u001b[0;36m7\u001b[0m\u001b[0;34m]\u001b[0m\u001b[0;34m]\u001b[0m\u001b[0;34m]\u001b[0m\u001b[0;34m\u001b[0m\u001b[0;34m\u001b[0m\u001b[0m\n\u001b[0;32m----> 2\u001b[0;31m \u001b[0ma\u001b[0m\u001b[0;34m.\u001b[0m\u001b[0mshape\u001b[0m\u001b[0;34m\u001b[0m\u001b[0;34m\u001b[0m\u001b[0m\n\u001b[0m",
      "\u001b[0;31mAttributeError\u001b[0m: 'list' object has no attribute 'shape'"
     ]
    }
   ],
   "source": [
    "a = [[[1, 2, 3], [4, 3, 7]], [[2, 1, 6], [5, 3, 1]],[[1, 7, 2], [6, 5, 7]]]\n"
   ]
  },
  {
   "cell_type": "code",
   "execution_count": 24,
   "id": "6c7a409e",
   "metadata": {},
   "outputs": [
    {
     "data": {
      "text/plain": [
       "array([[[1, 2, 3],\n",
       "        [4, 3, 7]],\n",
       "\n",
       "       [[2, 1, 6],\n",
       "        [5, 3, 1]],\n",
       "\n",
       "       [[1, 7, 2],\n",
       "        [6, 5, 7]]])"
      ]
     },
     "execution_count": 24,
     "metadata": {},
     "output_type": "execute_result"
    }
   ],
   "source": [
    "import numpy as np\n",
    "matrix = np.array(a)\n",
    "matrix"
   ]
  },
  {
   "cell_type": "code",
   "execution_count": null,
   "id": "5c731f29",
   "metadata": {},
   "outputs": [],
   "source": []
  }
 ],
 "metadata": {
  "kernelspec": {
   "display_name": "Python 3 (ipykernel)",
   "language": "python",
   "name": "python3"
  },
  "language_info": {
   "codemirror_mode": {
    "name": "ipython",
    "version": 3
   },
   "file_extension": ".py",
   "mimetype": "text/x-python",
   "name": "python",
   "nbconvert_exporter": "python",
   "pygments_lexer": "ipython3",
   "version": "3.9.12"
  }
 },
 "nbformat": 4,
 "nbformat_minor": 5
}
